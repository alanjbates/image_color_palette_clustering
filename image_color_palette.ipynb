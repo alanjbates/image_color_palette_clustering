{
 "cells": [
  {
   "cell_type": "markdown",
   "metadata": {},
   "source": [
    "# Use the Google Vision API to build an Image Color Palette\n",
    "This notebook uses the the Google Vision API to get Image Properties from web hosted images.  Specifically it returns the Color Palette of the image in numeric RGB values.  These Numeric Values can be used as input into other data products.\n",
    "\n",
    "###### Step 1: Get list of image URls\n",
    "###### Step 2: Scrape images from web\n",
    "###### Step 3: Load image in to RAM\n",
    "###### Step 4: Process Image with Google Vision API Image Properties method\n",
    "###### Step 5: Flatten Response JSON into dataframe\n",
    "###### Step 6: Load results to BigQuery\n"
   ]
  },
  {
   "cell_type": "code",
   "execution_count": null,
   "metadata": {},
   "outputs": [],
   "source": [
    "#Import Packages\n",
    "import io\n",
    "import requests\n",
    "from google.cloud import vision\n",
    "from google.cloud.vision import types\n",
    "from google.cloud import bigquery\n",
    "import os\n",
    "import pandas as pd\n",
    "import shutil\n",
    "import pandas_gbq"
   ]
  },
  {
   "cell_type": "markdown",
   "metadata": {},
   "source": [
    "### Authenticate to GCP using a Service Account keyfile\n",
    "Get a .json keyfile from your GCP project and place it on the machine you are running this on."
   ]
  },
  {
   "cell_type": "code",
   "execution_count": null,
   "metadata": {},
   "outputs": [],
   "source": [
    "os.environ[\"GOOGLE_APPLICATION_CREDENTIALS\"]=\"C:\\Temp\\YOURGCPPROJECTNAME-SERVICEACCOUNTCREDENTIALS.json\""
   ]
  },
  {
   "cell_type": "code",
   "execution_count": null,
   "metadata": {},
   "outputs": [],
   "source": [
    "#Initialize BigQuery Client\n",
    "project_id = 'YOURGCPPROJECTNAME'\n",
    "bq_client = bigquery.Client(project=project_id)"
   ]
  },
  {
   "cell_type": "markdown",
   "metadata": {},
   "source": [
    "### Step 1: Load a list of image file web urls into a pandas dataframe\n",
    "In my case, the list of image urls I want to process was in BigQuery already.  For this example I will be using a list of "
   ]
  },
  {
   "cell_type": "code",
   "execution_count": null,
   "metadata": {},
   "outputs": [],
   "source": [
    "#Create SQL statement that returns list of image URLS from BQ\n",
    "query_string = (\"\"\"\n",
    "SELECT input.image_id, input.image_url\n",
    "FROM `yourgcpproject.yourdataset.yourinputtablename` input\n",
    "--LIMIT 2000\n",
    "  \"\"\")"
   ]
  },
  {
   "cell_type": "code",
   "execution_count": null,
   "metadata": {},
   "outputs": [],
   "source": [
    "#Query BQ using the SQL statement and load results to pandas frame\n",
    "df = (\n",
    "    bq_client.query(query_string)\n",
    "    .result()\n",
    "    .to_dataframe()\n",
    ")"
   ]
  },
  {
   "cell_type": "code",
   "execution_count": null,
   "metadata": {},
   "outputs": [],
   "source": [
    "#confirm # of rows in df\n",
    "df.shape"
   ]
  },
  {
   "cell_type": "code",
   "execution_count": null,
   "metadata": {},
   "outputs": [],
   "source": [
    "#examine first few rows of df\n",
    "pd.set_option('display.max_colwidth', -1)\n",
    "df.head()"
   ]
  },
  {
   "cell_type": "markdown",
   "metadata": {},
   "source": [
    "### Step 2: Scrape Image \n",
    "### Step 3: Load image in to RAM \n",
    "### Step 4: Process Image with Google Vision API Image Properties method\n",
    "### Step 5: Flatten Response JSON into datafram"
   ]
  },
  {
   "cell_type": "code",
   "execution_count": null,
   "metadata": {},
   "outputs": [],
   "source": [
    "#Initialize Google Vision Client\n",
    "client = vision.ImageAnnotatorClient()\n",
    "\n",
    "#Set parms for loading results back to BQ.  This is where you will store the results\n",
    "dataset_ref = bq_client.dataset('yourdataset')\n",
    "table_ref = dataset_ref.table('yourresultstablename')\n",
    "table = bq_client.get_table(table_ref)\n",
    "\n",
    "#create empty dataframe to hold results\n",
    "df_vision = pd.DataFrame()"
   ]
  },
  {
   "cell_type": "code",
   "execution_count": null,
   "metadata": {},
   "outputs": [],
   "source": [
    "#loop through every image URL\n",
    "for index, row in df.iterrows():\n",
    "    #df_vision = pd.DataFrame()\n",
    "    \n",
    "    #prepare variables\n",
    "    StyleNbr = None\n",
    "    ColorCode = None\n",
    "    #set strings\n",
    "    url = str(row['image_url'])\n",
    "    imageid = str(row['image_id'])\n",
    "    #build local filename\n",
    "    filename = imageid + '.jfif'\n",
    "    \n",
    "    #use python reqeusts package to scrape image from the web and download to local working dir\n",
    "    response = requests.get(url, stream=True)\n",
    "    #open local file for writing downloaded image and save\n",
    "    with open(filename, 'wb') as out_file:\n",
    "        shutil.copyfileobj(response.raw, out_file)\n",
    "    #clean up web scrape response\n",
    "    del response\n",
    "    \n",
    "    #Open the dowloaded image file into ram\n",
    "    with io.open(filename, 'rb') as image_file:\n",
    "        content = image_file.read()\n",
    "    #set image variable with file\n",
    "    image = types.Image(content=content)\n",
    "    \n",
    "    # Call the google vision API with im memory image file\n",
    "    response = client.image_properties(image=image)\n",
    "    props = response.image_properties_annotation\n",
    "    \n",
    "    #flatten json response for bq table\n",
    "    for color in props.dominant_colors.colors:\n",
    "        score = None\n",
    "        pixel_fraction = None\n",
    "        r = None\n",
    "        g = None\n",
    "        b = None\n",
    "        score = color.score\n",
    "        pixel_fraction = color.pixel_fraction\n",
    "        r = str(color.color.red)\n",
    "        g = color.color.green\n",
    "        b = color.color.blue\n",
    "        #add row to in memory dataframe\n",
    "        df_vision = df_vision.append({'DataDate': pd.datetime.now().replace(microsecond=0),\n",
    "                    'image_id': imageid,\n",
    "                    'score': score,\n",
    "                    'pixel_fraction': pixel_fraction,\n",
    "                    'r': r,\n",
    "                    'g': g,\n",
    "                    'b': b},\n",
    "                    ignore_index=True)\n",
    "\n",
    "    #coerce data types for happy bq loading\n",
    "    df_vision['r'] = df_vision['r'].astype(str)\n",
    "    df_vision['g'] = df_vision['g'].astype(str)\n",
    "    df_vision['b'] = df_vision['b'].astype(str)\n",
    "    df_vision['score'] = df_vision['score'].astype(str)\n",
    "    df_vision['pixel_fraction'] = df_vision['pixel_fraction'].astype(str)\n",
    "    \n",
    "    #delete downloaded image file if you don't want to store them.\n",
    "    os.remove(filename)\n",
    "        \n"
   ]
  },
  {
   "cell_type": "markdown",
   "metadata": {},
   "source": [
    "### Step 6: Load Results back to BigQuery\n",
    "Once we have the vision api data loaded to a BQ table we can easily use it as input into other data products."
   ]
  },
  {
   "cell_type": "code",
   "execution_count": null,
   "metadata": {},
   "outputs": [],
   "source": [
    "#examine results. 1 row for every image that was in the BQ list from above\n",
    "df_vision.head()"
   ]
  },
  {
   "cell_type": "code",
   "execution_count": null,
   "metadata": {},
   "outputs": [],
   "source": [
    "#load results back to BQ\n",
    "bq_client.load_table_from_dataframe(df_vision, table_ref).result()"
   ]
  }
 ],
 "metadata": {
  "kernelspec": {
   "display_name": "Python 3",
   "language": "python",
   "name": "python3"
  },
  "language_info": {
   "codemirror_mode": {
    "name": "ipython",
    "version": 3
   },
   "file_extension": ".py",
   "mimetype": "text/x-python",
   "name": "python",
   "nbconvert_exporter": "python",
   "pygments_lexer": "ipython3",
   "version": "3.7.3"
  }
 },
 "nbformat": 4,
 "nbformat_minor": 2
}
